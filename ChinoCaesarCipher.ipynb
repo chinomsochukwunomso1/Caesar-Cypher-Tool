{
 "cells": [
  {
   "cell_type": "code",
   "execution_count": 1,
   "metadata": {},
   "outputs": [],
   "source": [
    "# 🗝️ A Caesar Cipher shifts letters by a \"secret number\" (key).\n",
    "# Example: If the key is 3, A → D, B → E, ... Z → C"
   ]
  },
  {
   "cell_type": "code",
   "execution_count": 2,
   "metadata": {},
   "outputs": [],
   "source": [
    "def encrypt(text, key):\n",
    "    encrypted_text = \"\"\n",
    "    for letter in text:\n",
    "        if letter.isalpha():  # Only shift letters (not symbols/numbers)\n",
    "            shifted = ord(letter) + key\n",
    "            if letter.islower():\n",
    "                if shifted > ord('z'):\n",
    "                    shifted -= 26\n",
    "                elif shifted < ord('a'):\n",
    "                    shifted += 26\n",
    "            elif letter.isupper():\n",
    "                if shifted > ord('Z'):\n",
    "                    shifted -= 26\n",
    "                elif shifted < ord('A'):\n",
    "                    shifted += 26\n",
    "            encrypted_text += chr(shifted)\n",
    "        else:\n",
    "            encrypted_text += letter  # Keep symbols/numbers as-is\n",
    "    return encrypted_text"
   ]
  },
  {
   "cell_type": "code",
   "execution_count": 3,
   "metadata": {},
   "outputs": [],
   "source": [
    "def decrypt(text, key):\n",
    "    return encrypt(text, -key)  # Decrypt by shifting backward!"
   ]
  },
  {
   "cell_type": "code",
   "execution_count": 4,
   "metadata": {},
   "outputs": [
    {
     "name": "stdout",
     "output_type": "stream",
     "text": [
      "Original: Hello, World! 🐱\n",
      "Encrypted: Khoor, Zruog! 🐱\n",
      "Decrypted: Hello, World! 🐱\n"
     ]
    }
   ],
   "source": [
    "message = \"Hello, World! 🐱\"\n",
    "key = 3\n",
    "\n",
    "encrypted = encrypt(message, key)\n",
    "decrypted = decrypt(encrypted, key)\n",
    "\n",
    "print(f\"Original: {message}\")\n",
    "print(f\"Encrypted: {encrypted}\")\n",
    "print(f\"Decrypted: {decrypted}\")"
   ]
  },
  {
   "cell_type": "code",
   "execution_count": null,
   "metadata": {},
   "outputs": [],
   "source": []
  }
 ],
 "metadata": {
  "kernelspec": {
   "display_name": "Python 3 (ipykernel)",
   "language": "python",
   "name": "python3"
  },
  "language_info": {
   "codemirror_mode": {
    "name": "ipython",
    "version": 3
   },
   "file_extension": ".py",
   "mimetype": "text/x-python",
   "name": "python",
   "nbconvert_exporter": "python",
   "pygments_lexer": "ipython3",
   "version": "3.11.0"
  }
 },
 "nbformat": 4,
 "nbformat_minor": 4
}
